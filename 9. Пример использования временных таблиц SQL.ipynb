{
 "cells": [
  {
   "cell_type": "markdown",
   "id": "8bee783f",
   "metadata": {},
   "source": [
    "# Работа с временными таблицами\n",
    "<h3><b>Задача 1</b></h3>\n",
    "Есть таблица с некоторым списком компаний, их принадлежности к стране и значением капитализации (рыночная стоимость самой компании) на конец 2020 года.\n",
    "Необходимо выявить в каждой стране компанию, капитализация которой максимальна."
   ]
  },
  {
   "cell_type": "code",
   "execution_count": null,
   "id": "93725637",
   "metadata": {},
   "outputs": [],
   "source": [
    "-- create temp table temp_companies_zelenskaya\n",
    "-- (country varchar(50)\n",
    "-- , company varchar(50)\n",
    "-- , capitalization int)\n",
    "\n",
    "\n",
    "\n",
    "-- insert into temp_companies_zelenskaya\n",
    "-- values\n",
    "-- ('Россия', 'Сбербанк',\t79504),\n",
    "-- ('Россия', 'Газпром',\t68012),\n",
    "-- ('Россия', 'Яндекс',\t22122),\n",
    "-- ('Россия', 'Татнефть',\t15176),\n",
    "-- ('Россия', 'X5 Retail Group',\t9809),\n",
    "-- ('Китай',  'Alibaba',  522000),\n",
    "-- ('Саудовская Аравия', 'Saudi Aramco', 1602000),\n",
    "-- ('США', 'Apple', 1113000),\n",
    "-- ('США', 'Amazon', 1000000),\n",
    "-- ('США', 'Facebook', 475000)\n",
    "\n",
    "-- select * \n",
    "-- from temp_companies_zelenskaya\n",
    "\n",
    "-- select country\n",
    "--     ,  max(capitalization) as max\n",
    "-- into temp table temp_first_result_zelenskaya\n",
    "-- from temp_companies_zelenskaya\n",
    "-- group by country\n",
    "\n",
    "-- select * \n",
    "-- from temp_first_result_zelenskaya\n",
    "\n",
    "select temp_first_result_zelenskaya.*\n",
    ", temp_companies_zelenskaya.company\n",
    "from temp_first_result_zelenskaya\n",
    "    inner join temp_companies_zelenskaya\n",
    "        on temp_first_result_zelenskaya.country = temp_companies_zelenskaya.country\n",
    "        and temp_first_result_zelenskaya.max = temp_companies_zelenskaya.capitalization\n"
   ]
  },
  {
   "cell_type": "markdown",
   "id": "e43eb8f6",
   "metadata": {},
   "source": [
    "<h3><b>Задача 2</b></h3>\n",
    "Вспоминаем домашнее задание пятого урока и схемы Airbnb. Работаем со схемой airbnb_dallas.\n",
    "Необходимо вывести самые высокие по цене объявления у тех продавцов, у которых было больше всего просмотров в декабре 2020 года (оставляем только трех продавцов)."
   ]
  },
  {
   "cell_type": "code",
   "execution_count": null,
   "id": "a2277414",
   "metadata": {},
   "outputs": [],
   "source": [
    "-- create temp table temp_prep_results_zel as\n",
    "-- select listings.host_id, count (1)\n",
    "-- from airbnb_dallas.reviews\n",
    "-- inner join airbnb_dallas.listings\n",
    "--     on listings.id = reviews.listing_id\n",
    "-- where reviews.date between '2020-12-01' and '2020-12-31'\n",
    "-- group by listings.host_id\n",
    "-- order by count (1) desc\n",
    "-- limit 3\n",
    "-- найдены 3 объявления с бол. кол-вом просмотров\n",
    "\n",
    "-- select temp_prep_results_zel.host_id, max(listings.price)\n",
    "-- into temp table temp_prep2_zel\n",
    "-- from temp_prep_results_zel\n",
    "-- inner join\n",
    "-- airbnb_dallas.listings\n",
    "--      on listings.host_id = temp_prep_results_zel.host_id\n",
    "-- group by temp_prep_results_zel.host_id\n",
    "\n",
    "-- select *,\n",
    "-- row_number() over (partition by temp_prep_results_zel.host_id order by listings.price desc) as r_price\n",
    "-- from temp_prep_results_zel\n",
    "-- inner join\n",
    "-- airbnb_dallas.listings\n",
    "--      on listings.host_id = temp_prep_results_zel.host_id\n",
    "-- проверка выполнения запроса с помощью окон\n",
    "\n",
    "-- select * \n",
    "-- from temp_prep2_zel\n",
    "\n",
    "select temp_prep2_zel.host_id, listings.name, listings.price \n",
    "from temp_prep2_zel\n",
    "    inner join airbnb_dallas.listings\n",
    "        on listings.host_id = temp_prep2_zel.host_id and listings.price = temp_prep2_zel.max\n"
   ]
  },
  {
   "cell_type": "markdown",
   "id": "805aa8a7",
   "metadata": {},
   "source": [
    "<h3><b>Задача 3</b></h3>\n",
    "Посмотреть и сравнить, как отличается конверсия в третью покупку у учеников, совершивших вторую покупку внутри схемы skyeng_db, в зависимости от пола."
   ]
  },
  {
   "cell_type": "code",
   "execution_count": null,
   "id": "179c1dad",
   "metadata": {},
   "outputs": [],
   "source": [
    "-- select user_id\n",
    "-- into temp table temp_c2_students\n",
    "-- from skyeng_db.payments\n",
    "-- where operation_name = 'Покупка уроков' \n",
    "-- \tand status_name = 'success'\n",
    "-- group by user_id\n",
    "-- having count(1)>1\n",
    "-- cтуденты, совершившие 2 покупки\n",
    "\n",
    "-- select *\n",
    "-- from temp_c2_students\n",
    "\n",
    "-- select user_id\n",
    "-- into temp table temp_c3_students\n",
    "-- from skyeng_db.payments\n",
    "-- where operation_name = 'Покупка уроков'\n",
    "--     and status_name = 'success'\n",
    "-- group by user_id\n",
    "-- having count(1)>2\n",
    "-- cтуденты, совершившие 3 покупки\n",
    "\n",
    "-- select *\n",
    "-- from temp_c3_students\n",
    "\n",
    "select students.student_sex\n",
    "    , count(1)\n",
    "    , count(temp_c3_students.user_id)*100/count(1)\n",
    "from skyeng_db.students\n",
    "    inner join temp_c2_students\n",
    "        on temp_c2_students.user_id = students.user_id\n",
    "    left join temp_c3_students\n",
    "        on temp_c3_students.user_id = students.user_id\n",
    "group by students.student_sex\n"
   ]
  }
 ],
 "metadata": {
  "kernelspec": {
   "display_name": "Python 3 (ipykernel)",
   "language": "python",
   "name": "python3"
  },
  "language_info": {
   "codemirror_mode": {
    "name": "ipython",
    "version": 3
   },
   "file_extension": ".py",
   "mimetype": "text/x-python",
   "name": "python",
   "nbconvert_exporter": "python",
   "pygments_lexer": "ipython3",
   "version": "3.9.12"
  }
 },
 "nbformat": 4,
 "nbformat_minor": 5
}
