{
 "cells": [
  {
   "cell_type": "markdown",
   "id": "c92667a3",
   "metadata": {},
   "source": [
    "# Моделирование изменения балансов студентов"
   ]
  },
  {
   "cell_type": "markdown",
   "id": "0f7d6110",
   "metadata": {},
   "source": [
    "<h3><b>Задача — смоделировать изменение балансов студентов.</b></h3>"
   ]
  },
  {
   "cell_type": "markdown",
   "id": "dc405565",
   "metadata": {},
   "source": [
    "<p><b>Баланс</b> — это количество уроков, которое есть у каждого студента.</p>\n",
    "<p>Чтобы проверить, всё ли в порядке с нашими данными, составьте список гипотез и вопросов.\n",
    "Нам важно понимать:</p>\n",
    "<ul>\n",
    "<li>сколько всего уроков было на балансе всех учеников за каждый календарный день;</li>\n",
    "<li>как это количество менялось под влиянием транзакций (оплат, начислений, корректирующих списаний) и уроков (списаний с баланса по мере прохождения уроков).</li></ul>\n",
    "<p>Также мы хотим создать таблицу, где будут балансы каждого студента за каждый день.</p>"
   ]
  },
  {
   "cell_type": "markdown",
   "id": "533bd304",
   "metadata": {},
   "source": [
    "<h3><b>Описание БД</b></h3>"
   ]
  },
  {
   "cell_type": "markdown",
   "id": "fbe39d51",
   "metadata": {},
   "source": [
    "<b><font color=#000066> SKYENG_DB </font></b>"
   ]
  },
  {
   "cell_type": "markdown",
   "id": "0f624eda",
   "metadata": {},
   "source": [
    "<b><font color=#000066>classes</font></b></br>\n",
    "<i>Витрина с уроками</i>\n",
    "<ul>\n",
    "<li>user_id - уникальный идентификатор юзера</li>\n",
    "<li>id_class - уникальный идентификатор урока</li>\n",
    "<li>class_start_datetime - время начала урока</li>\n",
    "<li>class_end_datetime - время конца урока</li>\n",
    "<li>class_removed_datetime - время удаления записи о данном уроке</li>\n",
    "<li>id_teacher - уникальный идентификатор учителя</li>\n",
    "<li>class_status - статус урока (успешно проведен / отменен и тд)</li>\n",
    "<li>class_status_datetime - время проставления статуса по уроку</li></ul>\n",
    "<b><font color=#000066>payments</font></b></br>\n",
    "<i>Витрина с платежами по урокам</i>\n",
    "<ul>\n",
    "<li>user_id - уникальный идентификатор юзера</li>\n",
    "<li>id_transaction - уникальный идентификатор транзакции</li>\n",
    "<li>operation_name - название проведенной операции</li>\n",
    "<li>status_name - статус проведенной операции (исполнена / не исполнена и тд)</li>\n",
    "<li>classes - количество оплаченных уроков</li>\n",
    "<li>payment_amount - выплаченная сумма</li>\n",
    "<li>transaction_datetime - время проведения операции</li>"
   ]
  },
  {
   "cell_type": "markdown",
   "id": "6690dccc",
   "metadata": {},
   "source": [
    "<p><b><font color=#000066>students</font></b></p>\n",
    "<i>Витрина со списком студентов</i>\n",
    "<ul>\n",
    "<li>user_id - уникальный идентификатор юзера</li>\n",
    "<li>student_sex - пол юзера</li>\n",
    "<li>geo_cluster - географическая агрегация</li>\n",
    "<li>country_name - короткое название страны</li>\n",
    "<li>region_name - название региона</li>\n",
    "<li>email_domain - домен электронной почты</li></ul>\n",
    "<b><font color=#000066>teachers</font></b></br>\n",
    "<i>Витрина со списком учителей</i>\n",
    "<ul>\n",
    "<li>id_teacher - уникальный идентификатор учителя</li>\n",
    "<li>age - возраст</li>\n",
    "<li>city - город проживания учителя</li>\n",
    "<li>department - направление, в котором работает учитель</li>\n",
    "<li>max_teaching_level - название уровня языка у преподавателя</li>\n",
    "<li>id_teaching_level - уникальный идентификатор уровня языка у преподавателя</li>\n",
    "<li>language_group - основной язык преподавателя</li></ul>"
   ]
  },
  {
   "cell_type": "markdown",
   "id": "e62ea8b7",
   "metadata": {},
   "source": [
    "## Код"
   ]
  },
  {
   "cell_type": "code",
   "execution_count": null,
   "id": "0fd659fc",
   "metadata": {},
   "outputs": [],
   "source": [
    "with first_payments as -- определяем дату первой успешной транзакции для каждого студента\n",
    "    (\n",
    "    select distinct user_id\n",
    "        , min(transaction_datetime::date) first_payment \n",
    "    from skyeng_db.payments\n",
    "    where status_name = 'success'\n",
    "    group by user_id\n",
    "    )\n",
    ", all_dates as -- определяем уникальные даты занятий в 2016 году\n",
    "    (\n",
    "    select distinct date_trunc('day', class_start_datetime) dt \n",
    "    from skyeng_db.classes\n",
    "    where date_trunc ('year', class_start_datetime) = '2016.01.01'\n",
    "    ) \n",
    ", payments_by_dates as -- находим изменения балансов, связанных с успешными транзакциями\n",
    "    (\n",
    "    select user_id\n",
    "        , date_trunc('day', transaction_datetime) as dt \n",
    "        , sum(classes) as transaction_balance_change\n",
    "    from skyeng_db.payments \n",
    "        where status_name = 'success'\n",
    "    group by user_id\n",
    "        , dt\n",
    "    )  \n",
    ", all_dates_by_user as -- определяем даты для сбора баланса\n",
    "    (\n",
    "    select a.user_id\n",
    "        , b.dt\n",
    "    from first_payments a\n",
    "        join all_dates b\n",
    "            on a.first_payment <= b.dt\n",
    "    order by user_id, dt\n",
    "    )\n",
    ", classes_by_dates as -- находим изменения балансов, связанных с прохождением уроков\n",
    "    (\n",
    "    select user_id\n",
    "        , date_trunc('day', class_start_datetime) class_date\n",
    "        , count(id_class)*(-1) classes \n",
    "    from skyeng_db.classes\n",
    "    where class_status in ('success', 'failed_by_student')\n",
    "            and class_type != 'trial'\n",
    "    group by user_id\n",
    "        ,class_date\n",
    "    )\n",
    ", payments_by_dates_cumsum as -- находим изменения балансов студентов, связанные с покупкой уроков (добавляем уроки)\n",
    "    (\n",
    "    select a.user_id\n",
    "        , a.dt\n",
    "        , b.transaction_balance_change\n",
    "        , sum(coalesce(b.transaction_balance_change,0)) over (partition by a.user_id order by a.dt) transaction_balance_change_cs\n",
    "    from all_dates_by_user a\n",
    "        left join payments_by_dates b\n",
    "            on a.user_id = b.user_id and a.dt = b.dt\n",
    "            )\n",
    ", classes_by_dates_dates_cumsum as -- находим изменения балансов студентов, связанные с прохождением уроков (списываем уроки)\n",
    "    (\n",
    "    select a.user_id\n",
    "        , a.dt\n",
    "        , b.classes\n",
    "        , sum(coalesce(b.classes,0)) over (partition by a.user_id order by a.dt) classes_cs\n",
    "    from all_dates_by_user a\n",
    "        left join classes_by_dates b\n",
    "            on a.user_id = b.user_id and a.dt = b.class_date\n",
    "    )\n",
    " , balance as -- определяем состояние баланса каждого пользователя за каждый \"прожитый\" день\n",
    "    (\n",
    "    select a.user_id\n",
    "        , a.dt\n",
    "        , a.transaction_balance_change -- сколько уроков куплено за день\n",
    "        , a.transaction_balance_change_cs -- сколько уроков куплено всего за все время\n",
    "        , b.classes -- сколько уроков пройдено за день\n",
    "        , b.classes_cs -- сколько уроков пройдено за все время\n",
    "        , b.classes_cs + a.transaction_balance_change_cs as balance -- количество оплаченных, но непройденных уроков\n",
    "    from payments_by_dates_cumsum  a\n",
    "        join classes_by_dates_dates_cumsum b\n",
    "            on a.user_id = b.user_id\n",
    "                and a.dt = b.dt\n",
    "    order by a.user_id, a.dt\n",
    "    -- limit 2000\n",
    "    )\n",
    "select dt -- получаем суммарные данные баланса по всем пользователям за 2016 год по дням\n",
    "    , sum(transaction_balance_change) new_lessons -- сколько уроков куплено за день\n",
    "    , sum(transaction_balance_change_cs) lessons_on_balance -- сколько уроков куплено за все время к этому дню\n",
    "    , sum (classes) new_classes -- сколько уроков проедено за день\n",
    "    , sum (classes_cs) lessons_off_ballance -- сколько уроков пройдено за все время к этому дню\n",
    "    , sum (balance) actual_balance -- количество оплаченных, но не пройденных уроков\n",
    "from balance\n",
    "group by dt\n",
    "order by dt"
   ]
  }
 ],
 "metadata": {
  "kernelspec": {
   "display_name": "Python 3 (ipykernel)",
   "language": "python",
   "name": "python3"
  },
  "language_info": {
   "codemirror_mode": {
    "name": "ipython",
    "version": 3
   },
   "file_extension": ".py",
   "mimetype": "text/x-python",
   "name": "python",
   "nbconvert_exporter": "python",
   "pygments_lexer": "ipython3",
   "version": "3.9.12"
  }
 },
 "nbformat": 4,
 "nbformat_minor": 5
}
