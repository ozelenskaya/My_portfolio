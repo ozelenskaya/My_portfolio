{
 "cells": [
  {
   "cell_type": "markdown",
   "id": "9d8818e4",
   "metadata": {},
   "source": [
    "# Пример выполнения тестового задания SQL"
   ]
  },
  {
   "cell_type": "markdown",
   "id": "bd273764",
   "metadata": {},
   "source": [
    "## Описание БД"
   ]
  },
  {
   "cell_type": "markdown",
   "id": "9c22abde",
   "metadata": {},
   "source": [
    "![title](pics/DB_test1.jpg)"
   ]
  },
  {
   "cell_type": "markdown",
   "id": "0f66ee14",
   "metadata": {},
   "source": [
    "<b>Задание 1</b>\n",
    "<p>Получите список всех сотрудников (таблица Employees), отсортированную по алфавиту.\n",
    "Что нужно вывести: все поля из таблицы employees.</p>"
   ]
  },
  {
   "cell_type": "code",
   "execution_count": null,
   "id": "c373b30c",
   "metadata": {},
   "outputs": [],
   "source": [
    "SELECT *\n",
    "FROM Employees\n",
    "ORDER BY last_nm\n",
    "    , first_nm\n",
    "    , middle_nm"
   ]
  },
  {
   "cell_type": "markdown",
   "id": "aac5c67d",
   "metadata": {},
   "source": [
    "<b>Задание 2</b>\n",
    "<p>Получите список сотрудников с названиями их позиций (position_nm), актуальных на 10.10.2020.</p>"
   ]
  },
  {
   "cell_type": "code",
   "execution_count": null,
   "id": "90773963",
   "metadata": {},
   "outputs": [],
   "source": [
    "SELECT a.last_nm\n",
    "    , a.first_nm\n",
    "    , a.middle_nm\n",
    "    , b.position_nm\n",
    "FROM Employees a\n",
    "    JOIN Job_history b\n",
    "        ON a.position_id=b.position id\n",
    "WHERE b.valid_to_ddtm >= ‘2020.10.10’ \n",
    "\tAND b.valid_from_ddtm <= ‘2020.10.10’\n",
    "--(этим условием пользоваться, если таблица empolyees содержит список всех сотрудников, в т.ч. и тех, что уже уволились)\n",
    "--Если таблица еmpoloyees не содержит записей об уволенных сотрудниках, достаточно условия WHERE a.hire_dt <= ‘2020.10.10’ и тип связи тогда лучше использовать Left join "
   ]
  },
  {
   "cell_type": "markdown",
   "id": "2adf1ebb",
   "metadata": {},
   "source": [
    "<b>Задание 3</b>\n",
    "<p>Получите список сотрудников, у которых ЗП (salary) от 20 000 до 50 000, актуальных на текущий момент</p>"
   ]
  },
  {
   "cell_type": "code",
   "execution_count": null,
   "id": "ff75f20d",
   "metadata": {},
   "outputs": [],
   "source": [
    "SELECT a.last_nm\n",
    "    , a.first_nm\n",
    "    , a.middle_nm\n",
    "    , b.salary\n",
    "    , a.hire_dt\n",
    "FROM Employees a\n",
    "    JOIN Job_history b\n",
    "        ON a.position_id=b.position_id\n",
    "WHERE b.salary between 20000 and 50000\n",
    "AND b.valid_to_dttm >= CURRENT_DATE"
   ]
  },
  {
   "cell_type": "markdown",
   "id": "20e36479",
   "metadata": {},
   "source": [
    "<b>Задание 4</b>\n",
    "<p>Получите список сотрудников в формате: «Иванова - Наталья – Юрьевна» (ФИО должно быть прописано в одном столбике, разделение ‘-’)</p>"
   ]
  },
  {
   "cell_type": "code",
   "execution_count": null,
   "id": "f7bc6d2c",
   "metadata": {},
   "outputs": [],
   "source": [
    "SELECT CONCAT(last_nm, ‘-‘, first_nm, ‘-‘, middle_nm) AS fio\n",
    "    , birth_dt\n",
    "FROM Employees"
   ]
  },
  {
   "cell_type": "markdown",
   "id": "2d0804cd",
   "metadata": {},
   "source": [
    "<b>Задание 5</b>\n",
    "<p>Получите количество звонков (таблица Calls) по дням, период с 01.10.2020 по текущий день</p>"
   ]
  },
  {
   "cell_type": "code",
   "execution_count": null,
   "id": "4548f20a",
   "metadata": {},
   "outputs": [],
   "source": [
    "SELECT date_trunc('day', start_dttm) AS date\n",
    "    \t, count(call_id) as cnt_calls\n",
    "FROM Calls\n",
    "WHERE start_dttm >= ‘2020.10.01’\n",
    "-- можно такое условие, если важна ссылка на текущую дату WHERE start_dttm between ‘2020.10.01’ AND CURRENT_DATE\n",
    "GROUP BY date_trunc('day', start_dttm)\n",
    "--ORDER BY date_trunc('day', start_dttm) – сортировка не обязательна, но, на мой взгляд, так более упорядоченно"
   ]
  },
  {
   "cell_type": "markdown",
   "id": "e1e54aa9",
   "metadata": {},
   "source": [
    "<b>Задание 6</b>\n",
    "<p>Вывести %% дозвона для каждого дня (%% дозвона – это доля принятых звонков (dozv_flg = 1) от всех поступивших звонков (dozv_flg =1 or dozv_flg = 0)), период с 01.10.2020 по текущий день</p>"
   ]
  },
  {
   "cell_type": "code",
   "execution_count": null,
   "id": "c9bfda82",
   "metadata": {},
   "outputs": [],
   "source": [
    "SELECT date_trunc('day', start_dttm) AS date\n",
    "    \t, sum(dozv_flg)::int/count(dozv_flg)::float*100 AS sla\n",
    "FROM Calls\n",
    "WHERE start_dttm >= ‘2020.10.01’\n",
    "-- можно такое условие, если важна ссылка на текущую дату WHERE start_dttm BETWEEN ‘2020.10.01’ AND CURRENT_DATE\n",
    "GROUP BY date_trunc('day', start_dttm)\n",
    "--ORDER BY date_trunc('day', start_dttm) – сортировка не обязательна, но, на мой взгляд, так более упорядоченно"
   ]
  },
  {
   "cell_type": "markdown",
   "id": "67b5845d",
   "metadata": {},
   "source": [
    "<b>Задание 7</b>\n",
    "<p>Получите длительность самого длинного разговора, и самого короткого за 28.10.2020 (start_dttm – начало звонка, end_dttm - окончание звонка)</p>"
   ]
  },
  {
   "cell_type": "code",
   "execution_count": null,
   "id": "ba709b8d",
   "metadata": {},
   "outputs": [],
   "source": [
    "SELECT max(end_dttm - start_dttm) AS max_call_time\n",
    "    , min(end_dttm - start_dttm) AS min_call_time\n",
    "FROM call_length\n",
    "WHERE date_trunc('day', start_dttm) = ‘2020.10.28’"
   ]
  },
  {
   "cell_type": "markdown",
   "id": "4fbe1f0d",
   "metadata": {},
   "source": [
    "<b>Задание 8</b>\n",
    "<p>Получите информацию по всем звонкам, в какой системе они были обработаны (таблица System)</p>"
   ]
  },
  {
   "cell_type": "code",
   "execution_count": null,
   "id": "f44382d8",
   "metadata": {},
   "outputs": [],
   "source": [
    "SELECT a.call_id\n",
    "    , a.start_dttm\n",
    "    , a.end_dttm\n",
    "    , b.system_name\n",
    "FROM calls a\n",
    "    LEFT JOIN system b\n",
    "        ON a.system_id = b.system_id"
   ]
  },
  {
   "cell_type": "markdown",
   "id": "eabe5e88",
   "metadata": {},
   "source": [
    "<b>Задание 9</b>\n",
    "<p>Получите информацию по клиентам (таблица Customers), которые звонили и не дозвонились 23.10.2020.</p>"
   ]
  },
  {
   "cell_type": "code",
   "execution_count": null,
   "id": "19f467f7",
   "metadata": {},
   "outputs": [],
   "source": [
    "SELECT date_trunc('day', a.start_dttm) AS date\n",
    "    , b.last_nm\n",
    "    , b.first_nm\n",
    "    , b.middle_nm\n",
    "FROM calls a\n",
    "    JOIN customers b\n",
    "        ON a.customer_id = b.customer_id\n",
    "WHERE date_trunc('day', a.start_dttm) = ‘2020.10.23’\n",
    "\tAND a.dozv_flg = 0"
   ]
  },
  {
   "cell_type": "markdown",
   "id": "2f4c4500",
   "metadata": {},
   "source": [
    "<b>Задание 10</b>\n",
    "<p>Получите информацию по продуктам, которые были открыты у клиентов во время звонка с 05.10.2020 по текущий день</p>"
   ]
  },
  {
   "cell_type": "code",
   "execution_count": null,
   "id": "84f9ca22",
   "metadata": {},
   "outputs": [],
   "source": [
    "SELECT b.last_nm\n",
    "    , b.first_nm\n",
    "    , b.middle_nm date_trunc\n",
    "    , ('day', a.start_dttm) AS date\n",
    "    , b.open_dt\n",
    "    , b.product_nm\n",
    "FROM calls a\n",
    "    JOIN customers b\n",
    "        ON a.customer_id = b.customer_id\n",
    "        AND b.open_dt BETWEEN a.start_dttm AND a.end_dttm\n",
    "WHERE date_trunc('day', a.start_dttm) >= ‘2020.10.05’\n",
    "-- ИЛИ WHERE date_trunc('day', a.start_dttm) BETWEEN ‘2020.10.05’ AND CURRENT_DATE"
   ]
  },
  {
   "cell_type": "markdown",
   "id": "26808c47",
   "metadata": {},
   "source": [
    "<b>Задание 11</b>\n",
    "<p>С помощью оконных функций выведите информацию по тем звонкам, на которых данный employee_id уже не первый раз общается с данным customer_id</p>"
   ]
  },
  {
   "cell_type": "code",
   "execution_count": null,
   "id": "4f054ad5",
   "metadata": {},
   "outputs": [],
   "source": [
    "SELECT customer_id\n",
    "    , employee_id\n",
    "    , start_dttm\n",
    "    , end_dttm\n",
    "FROM\n",
    "    (SELECT customer_id\n",
    "        , employee_id\n",
    "        , start_dttm\n",
    "        , end_dttm\n",
    "        , row_number() over (partition by customer_id, employee_id order by start_dttm) AS rn_customer_employee\n",
    "    FROM calls\n",
    "    WHERE dozv_flg = 1 – я бы ввела это условие, чтобы исключить непринятые звонки\n",
    "    ) t\n",
    "WHERE rn_customer_employee > 1"
   ]
  }
 ],
 "metadata": {
  "celltoolbar": "Raw Cell Format",
  "kernelspec": {
   "display_name": "Python 3 (ipykernel)",
   "language": "python",
   "name": "python3"
  },
  "language_info": {
   "codemirror_mode": {
    "name": "ipython",
    "version": 3
   },
   "file_extension": ".py",
   "mimetype": "text/x-python",
   "name": "python",
   "nbconvert_exporter": "python",
   "pygments_lexer": "ipython3",
   "version": "3.9.12"
  }
 },
 "nbformat": 4,
 "nbformat_minor": 5
}
