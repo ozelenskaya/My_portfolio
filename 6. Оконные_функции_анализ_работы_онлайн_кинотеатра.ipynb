{
 "cells": [
  {
   "cell_type": "markdown",
   "id": "d2f1bafb",
   "metadata": {},
   "source": [
    "# Оконные_функции_анализ_работы_онлайн_кинотеатра"
   ]
  },
  {
   "cell_type": "markdown",
   "id": "cdd2b153",
   "metadata": {},
   "source": [
    "<h3><b>Задача 1</b></h3>\n",
    "1.\tПерейдите на схему course_db_test и изучите информацию, которая хранится в таблице skycinema.client_sign_up.\n",
    "2.\tПроставьте каждой покупке свой ранг, который покажет, какой по счету является данная покупка в рамках всей таблицы."
   ]
  },
  {
   "cell_type": "code",
   "execution_count": null,
   "id": "10ff57bd",
   "metadata": {},
   "outputs": [],
   "source": [
    "select *\n",
    "        ,row_number () over (order by date_purchase)\n",
    "from skycinema.client_sign_up"
   ]
  },
  {
   "cell_type": "markdown",
   "id": "093bc1f5",
   "metadata": {},
   "source": [
    "3.\tПроставьте каждой покупке свой ранг, который покажет, какой по счету является данная покупка в рамках всех покупок клиента."
   ]
  },
  {
   "cell_type": "code",
   "execution_count": null,
   "id": "7c6f196d",
   "metadata": {},
   "outputs": [],
   "source": [
    "select *\n",
    "        ,row_number () over (partition by user_id order by date_purchase)\n",
    "from skycinema.client_sign_up"
   ]
  },
  {
   "cell_type": "markdown",
   "id": "dbc1cce7",
   "metadata": {},
   "source": [
    "4.\tРассмотрите только первые покупки для каждого клиента: постройте распределение количества первых покупок клиента по полям is_trial и name_partner (расшифровка из словаря с партнерами на схеме skycinema)."
   ]
  },
  {
   "cell_type": "code",
   "execution_count": null,
   "id": "06cfaddb",
   "metadata": {},
   "outputs": [],
   "source": [
    "select f.is_trial\n",
    "    , s.name_partner\n",
    "    , count(*)\n",
    "from\n",
    "(\n",
    "select *\n",
    "        ,row_number () over (partition by user_id order by date_purchase) as rn_client\n",
    "from skycinema.client_sign_up) f\n",
    "    left join skycinema.partner_dict s\n",
    "        on f.partner = s.id_partner\n",
    "where rn_client = 1\n",
    "group by 1,2\n",
    "order by is_trial"
   ]
  },
  {
   "cell_type": "markdown",
   "id": "23e2bc35",
   "metadata": {},
   "source": [
    "5.\tДополните код таким образом, чтобы у вас получились винтажные доходимости, т.е. для каждого партнера необходимо рассчитать, какой процент клиентов дошел до второй покупки, до третьей покупки и тд."
   ]
  },
  {
   "cell_type": "code",
   "execution_count": null,
   "id": "7d343457",
   "metadata": {},
   "outputs": [],
   "source": [
    "select s.name_partner\n",
    "    , count(case when rn_client = 1 then user_id else null end)/count(case when rn_client = 1 then user_id else null end)::float as purchase_1\n",
    "    , count(case when rn_client = 2 then user_id else null end)/count(case when rn_client = 1 then user_id else null end)::float as purchase_2\n",
    "    , count(case when rn_client = 3 then user_id else null end)/count(case when rn_client = 1 then user_id else null end)::float as purchase_3\n",
    "    , count(case when rn_client = 4 then user_id else null end)/count(case when rn_client = 1 then user_id else null end)::float as purchase_4\n",
    "    , count(case when rn_client = 5 then user_id else null end)/count(case when rn_client = 1 then user_id else null end)::float as purchase_5\n",
    "    , count(case when rn_client = 6 then user_id else null end)/count(case when rn_client = 1 then user_id else null end)::float as purchase_6\n",
    "    , count(case when rn_client = 7 then user_id else null end)/count(case when rn_client = 1 then user_id else null end)::float as purchase_7\n",
    "from\n",
    "(\n",
    "select *\n",
    "        ,row_number () over (partition by user_id order by date_purchase) as rn_client\n",
    "from skycinema.client_sign_up) f\n",
    "    left join skycinema.partner_dict s\n",
    "        on f.partner = s.id_partner\n",
    "group by 1"
   ]
  },
  {
   "cell_type": "markdown",
   "id": "0471f069",
   "metadata": {},
   "source": [
    "<h3><b>Задача 2</b><h3>"
   ]
  },
  {
   "cell_type": "markdown",
   "id": "8193e15c",
   "metadata": {},
   "source": [
    "1.\tНайдите количество уникальных значений поля date_purchase с помощью оператора distinct.\n",
    "2.\tНайдите количество уникальных значений поля date_purchase только с помощью функций row_number и rank.\n",
    "3.\tУбедитесь, что вы получаете один и тот же ответ."
   ]
  },
  {
   "cell_type": "code",
   "execution_count": null,
   "id": "9160a6a7",
   "metadata": {},
   "outputs": [],
   "source": [
    "-- select count (distinct date_purchase)\n",
    "-- from skycinema.client_sign_up\n",
    "\n",
    "\n",
    "select count(case when rank_all/rn_all = 1 then rank_all else null end)\n",
    "from\n",
    "(\n",
    "select row_number() over (order by date_purchase) rn_all\n",
    "    , rank() over (order by date_purchase) rank_all\n",
    "from skycinema.client_sign_up\n",
    ") a\n"
   ]
  }
 ],
 "metadata": {
  "kernelspec": {
   "display_name": "Python 3 (ipykernel)",
   "language": "python",
   "name": "python3"
  },
  "language_info": {
   "codemirror_mode": {
    "name": "ipython",
    "version": 3
   },
   "file_extension": ".py",
   "mimetype": "text/x-python",
   "name": "python",
   "nbconvert_exporter": "python",
   "pygments_lexer": "ipython3",
   "version": "3.9.12"
  }
 },
 "nbformat": 4,
 "nbformat_minor": 5
}
