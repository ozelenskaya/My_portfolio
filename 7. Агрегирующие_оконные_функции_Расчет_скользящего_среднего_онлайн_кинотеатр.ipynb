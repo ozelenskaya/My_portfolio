{
 "cells": [
  {
   "cell_type": "markdown",
   "id": "e8bdea13",
   "metadata": {},
   "source": [
    "# Оконные_функции_Расчет_скользящего_среднего_онлайн_кинотеатр"
   ]
  },
  {
   "cell_type": "markdown",
   "id": "ad45ea94",
   "metadata": {},
   "source": [
    "<h3><b>skycinema.client_sign_up</b></h3>\n",
    "<ul>\n",
    "<li>user_id</li>\n",
    "<li>purchase_id</li>\n",
    "<li>debit_kind</li>\n",
    "<li>is_trial</li>\n",
    "<li>date_purchase</li>\n",
    "<li>amt_payment</li>\n",
    "<li>partner</li>\n",
    "</ul>\n",
    "\n",
    "1.\tПостройте распределение выплаченных клиентами денег (amt_payment) по месяцам поля date_purchase (SQL-запрос)\n",
    "2.\tДополните ваш запрос так, чтобы получилось три разных скользящих средних (по сумме денег по месяцам) \n",
    "\t-MA(3) - скользящее среднее, принимающее текущее значение и два предыдущих.\n",
    "\t-MA(7) - скользящее среднее, принимающее текущее значение и шесть предыдущих.\n",
    "\t-MA_2side(5) - двустороннее скользящее среднее, принимающее текущее значение, два предыдущих и два следующих.\n",
    "\tПеренесите результаты в Excel и постройте графики скользящего среднего\n",
    "    \n"
   ]
  },
  {
   "cell_type": "code",
   "execution_count": null,
   "id": "518749b4",
   "metadata": {},
   "outputs": [],
   "source": [
    "select t.*\n",
    "   , avg (amt_payment) over (order by month_pay rows between 2 preceding and current row) ma_3\n",
    "   , avg (amt_payment) over (order by month_pay rows between 6 preceding and current row) ma_7\n",
    "   , avg (amt_payment) over (order by month_pay rows between 2 preceding and 2 following) ma_2side\n",
    "from\n",
    "    (\n",
    "    select\n",
    "    \tdate_trunc('month', date_purchase::date) month_pay\n",
    "    \t, sum(amt_payment) as amt_payment\n",
    "    from skycinema.client_sign_up\n",
    "    group by month_pay\n",
    "    order by month_pay\n",
    "    ) t"
   ]
  }
 ],
 "metadata": {
  "kernelspec": {
   "display_name": "Python 3 (ipykernel)",
   "language": "python",
   "name": "python3"
  },
  "language_info": {
   "codemirror_mode": {
    "name": "ipython",
    "version": 3
   },
   "file_extension": ".py",
   "mimetype": "text/x-python",
   "name": "python",
   "nbconvert_exporter": "python",
   "pygments_lexer": "ipython3",
   "version": "3.9.12"
  }
 },
 "nbformat": 4,
 "nbformat_minor": 5
}
