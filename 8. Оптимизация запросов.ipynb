{
 "cells": [
  {
   "cell_type": "markdown",
   "id": "5fdfa747",
   "metadata": {},
   "source": [
    "# Оптимизация запроса"
   ]
  },
  {
   "cell_type": "markdown",
   "id": "08c03b75",
   "metadata": {},
   "source": [
    "<h3><b>Исходный запрос:</b></h3>"
   ]
  },
  {
   "cell_type": "code",
   "execution_count": null,
   "id": "24f811ec",
   "metadata": {},
   "outputs": [],
   "source": [
    "explain\n",
    "with teachers_cost as\n",
    "    (\n",
    "    select distinct id_teacher, \n",
    "        case when language_group = 'rus' then 900 else 1500 end as class_cost\n",
    "    from skyeng_db.teachers\n",
    "    )\n",
    ", class_data as\n",
    "    (\n",
    "    select distinct user_id\n",
    "        , class_start_datetime\n",
    "        , class_end_datetime\n",
    "        , id_teacher\n",
    "        , id_class, class_status\n",
    "        , class_type\n",
    "    from skyeng_db.classes\n",
    "    )\n",
    "select date_trunc('month', class_start_datetime) as class_month,\n",
    "    sum(class_cost) as total_classes_cost, count(id_class) as classes_count,\n",
    "    sum(class_cost)::float / count(id_class) as avg_cost\n",
    "from class_data\n",
    "    left join teachers_cost\n",
    "        on teachers_cost.id_teacher = class_data.id_teacher\n",
    "where class_status in ('success', 'failed_by_teacher') -- урок списан с баланса\n",
    "    and class_start_datetime >= '2016-01-01'::timestamp\n",
    "    and class_start_datetime < '2017-01-01'::timestamp -- в 2016 году\n",
    "    and class_type != 'trial' -- не вводный урок\n",
    "group by 1\n",
    "order by 1\n"
   ]
  },
  {
   "cell_type": "markdown",
   "id": "7d7beb82",
   "metadata": {},
   "source": [
    "<font color=\"grey\"><b> GroupAggregate (cost=13488.86..13489.16 rows=3 width=32)</b></font>"
   ]
  },
  {
   "cell_type": "markdown",
   "id": "02f8a7b3",
   "metadata": {},
   "source": [
    "<h3><b>Оптимизированный запрос:</b></h3>"
   ]
  },
  {
   "cell_type": "code",
   "execution_count": null,
   "id": "384856e7",
   "metadata": {},
   "outputs": [],
   "source": [
    "explain\n",
    "with teachers_cost as\n",
    "    (\n",
    "    select id_teacher\n",
    "        , case when language_group = 'rus' then 900 else 1500 end as class_cost\n",
    "    from skyeng_db.teachers\n",
    "    )\n",
    "select date_trunc('month', class_start_datetime) as class_month\n",
    "    , sum(class_cost) as total_classes_cost, count(id_class) as classes_count\n",
    "    , sum(class_cost)::float / count(id_class) as avg_cost\n",
    "from skyeng_db.classes as class_data\n",
    "    left join teachers_cost\n",
    "        on teachers_cost.id_teacher = class_data.id_teacher\n",
    "where class_status in ('success', 'failed_by_teacher') -- урок списан с баланса\n",
    "    and extract(year from class_start_datetime) = 2016 -- в 2016 году\n",
    "    and class_type != 'trial' -- не вводный урок\n",
    "group by class_month\n",
    "order by class_month\n"
   ]
  },
  {
   "cell_type": "markdown",
   "id": "f6e88a65",
   "metadata": {},
   "source": [
    "<font color=\"grey\"><b> GroupAggregate (cost=2310.22..2317.07 rows=188 width=32)</b></font>"
   ]
  }
 ],
 "metadata": {
  "kernelspec": {
   "display_name": "Python 3 (ipykernel)",
   "language": "python",
   "name": "python3"
  },
  "language_info": {
   "codemirror_mode": {
    "name": "ipython",
    "version": 3
   },
   "file_extension": ".py",
   "mimetype": "text/x-python",
   "name": "python",
   "nbconvert_exporter": "python",
   "pygments_lexer": "ipython3",
   "version": "3.9.12"
  }
 },
 "nbformat": 4,
 "nbformat_minor": 5
}
